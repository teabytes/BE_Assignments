{
 "cells": [
  {
   "cell_type": "markdown",
   "id": "65239855",
   "metadata": {},
   "source": [
    "# Assignment 3B\n",
    "**Convolutional Neural Network (CNN)**\n",
    "<br> Use MNIST Fashion Dataset and create a classifier to classify fashion clothing into categories."
   ]
  },
  {
   "cell_type": "code",
   "execution_count": 1,
   "id": "f30c8282",
   "metadata": {},
   "outputs": [],
   "source": [
    "import pandas as pd\n",
    "import numpy as np\n",
    "import matplotlib.pyplot as plt\n",
    "import seaborn as sns\n",
    "\n",
    "from sklearn.metrics import classification_report, confusion_matrix\n",
    "\n",
    "from tensorflow.keras.utils import to_categorical\n",
    "from tensorflow.keras.models import Sequential\n",
    "from tensorflow.keras.layers import Conv2D, MaxPooling2D, Flatten, Dense, Dropout\n",
    "from tensorflow.keras.optimizers import Adam"
   ]
  },
  {
   "cell_type": "markdown",
   "id": "155b6ac7",
   "metadata": {},
   "source": [
    "### Preprocessing"
   ]
  },
  {
   "cell_type": "code",
   "execution_count": 3,
   "id": "f4247788",
   "metadata": {},
   "outputs": [],
   "source": [
    "# load the dataset\n",
    "train_df = pd.read_csv('fashion_mnist_train.csv')\n",
    "test_df = pd.read_csv('fashion_mnist_test.csv')"
   ]
  },
  {
   "cell_type": "code",
   "execution_count": 8,
   "id": "d1d07dca",
   "metadata": {},
   "outputs": [],
   "source": [
    "# separate labels and features\n",
    "\n",
    "x_train = train_df.iloc[:, 1:].values  # all rows, columns 1 to n\n",
    "y_train = train_df.iloc[:, 0].values  # all rows, column 0\n",
    "\n",
    "x_test = test_df.iloc[:, 1:].values\n",
    "y_test = test_df.iloc[:, 0].values"
   ]
  },
  {
   "cell_type": "code",
   "execution_count": 7,
   "id": "f383f211",
   "metadata": {},
   "outputs": [],
   "source": [
    "# normalize pixel values to [0, 1]\n",
    "x_train = X_train / 255.0\n",
    "x_test = X_test / 255.0"
   ]
  },
  {
   "cell_type": "code",
   "execution_count": 9,
   "id": "10039aac",
   "metadata": {},
   "outputs": [],
   "source": [
    "# reshape to 28x28x1 for CNN input\n",
    "x_train = x_train.reshape(-1, 28, 28, 1)\n",
    "x_test = x_test.reshape(-1, 28, 28, 1)"
   ]
  },
  {
   "cell_type": "code",
   "execution_count": 10,
   "id": "bd057ae9",
   "metadata": {},
   "outputs": [],
   "source": [
    "# one-hot encoding\n",
    "y_train_cat = to_categorical(y_train, 10)\n",
    "y_test_cat = to_categorical(y_test, 10)"
   ]
  },
  {
   "cell_type": "markdown",
   "id": "1eaeeb58",
   "metadata": {},
   "source": [
    "### Build & Train CNN"
   ]
  },
  {
   "cell_type": "code",
   "execution_count": 12,
   "id": "e0159c14",
   "metadata": {},
   "outputs": [
    {
     "name": "stdout",
     "output_type": "stream",
     "text": [
      "Model: \"sequential_1\"\n",
      "_________________________________________________________________\n",
      " Layer (type)                Output Shape              Param #   \n",
      "=================================================================\n",
      " conv2d_2 (Conv2D)           (None, 26, 26, 32)        320       \n",
      "                                                                 \n",
      " max_pooling2d_2 (MaxPooling  (None, 13, 13, 32)       0         \n",
      " 2D)                                                             \n",
      "                                                                 \n",
      " conv2d_3 (Conv2D)           (None, 11, 11, 64)        18496     \n",
      "                                                                 \n",
      " max_pooling2d_3 (MaxPooling  (None, 5, 5, 64)         0         \n",
      " 2D)                                                             \n",
      "                                                                 \n",
      " flatten_1 (Flatten)         (None, 1600)              0         \n",
      "                                                                 \n",
      " dense_2 (Dense)             (None, 128)               204928    \n",
      "                                                                 \n",
      " dropout_1 (Dropout)         (None, 128)               0         \n",
      "                                                                 \n",
      " dense_3 (Dense)             (None, 10)                1290      \n",
      "                                                                 \n",
      "=================================================================\n",
      "Total params: 225,034\n",
      "Trainable params: 225,034\n",
      "Non-trainable params: 0\n",
      "_________________________________________________________________\n"
     ]
    }
   ],
   "source": [
    "model = Sequential([\n",
    "    Conv2D(32, (3,3), activation='relu', input_shape=(28,28,1)),\n",
    "    MaxPooling2D(2,2),\n",
    "    Conv2D(64, (3,3), activation='relu'),\n",
    "    MaxPooling2D(2,2),\n",
    "    Flatten(),\n",
    "    Dense(128, activation='relu'),\n",
    "    Dropout(0.5),\n",
    "    Dense(10, activation='softmax')  # 10 fashion classes\n",
    "])\n",
    "\n",
    "# compile the model\n",
    "model.compile(optimizer=Adam(), loss='categorical_crossentropy', metrics=['accuracy'])\n",
    "model.summary()"
   ]
  },
  {
   "cell_type": "code",
   "execution_count": 13,
   "id": "675a4ba0",
   "metadata": {},
   "outputs": [
    {
     "name": "stdout",
     "output_type": "stream",
     "text": [
      "Epoch 1/10\n",
      "844/844 [==============================] - 13s 14ms/step - loss: 0.8949 - accuracy: 0.7500 - val_loss: 0.4005 - val_accuracy: 0.8487\n",
      "Epoch 2/10\n",
      "844/844 [==============================] - 12s 14ms/step - loss: 0.4573 - accuracy: 0.8326 - val_loss: 0.3688 - val_accuracy: 0.8575\n",
      "Epoch 3/10\n",
      "844/844 [==============================] - 12s 14ms/step - loss: 0.3902 - accuracy: 0.8555 - val_loss: 0.3270 - val_accuracy: 0.8802\n",
      "Epoch 4/10\n",
      "844/844 [==============================] - 12s 14ms/step - loss: 0.3583 - accuracy: 0.8684 - val_loss: 0.3151 - val_accuracy: 0.8847\n",
      "Epoch 5/10\n",
      "844/844 [==============================] - 12s 14ms/step - loss: 0.3384 - accuracy: 0.8746 - val_loss: 0.3016 - val_accuracy: 0.8860\n",
      "Epoch 6/10\n",
      "844/844 [==============================] - 12s 14ms/step - loss: 0.3169 - accuracy: 0.8839 - val_loss: 0.3010 - val_accuracy: 0.8882\n",
      "Epoch 7/10\n",
      "844/844 [==============================] - 12s 15ms/step - loss: 0.3042 - accuracy: 0.8863 - val_loss: 0.2925 - val_accuracy: 0.8945\n",
      "Epoch 8/10\n",
      "844/844 [==============================] - 12s 14ms/step - loss: 0.2932 - accuracy: 0.8905 - val_loss: 0.2774 - val_accuracy: 0.8982\n",
      "Epoch 9/10\n",
      "844/844 [==============================] - 12s 15ms/step - loss: 0.2768 - accuracy: 0.8954 - val_loss: 0.2876 - val_accuracy: 0.8943\n",
      "Epoch 10/10\n",
      "844/844 [==============================] - 12s 14ms/step - loss: 0.2680 - accuracy: 0.8999 - val_loss: 0.2899 - val_accuracy: 0.8960\n"
     ]
    }
   ],
   "source": [
    "# train the model\n",
    "history = model.fit(\n",
    "    x_train, y_train_cat,\n",
    "    epochs = 10,\n",
    "    batch_size = 64,\n",
    "    validation_split = 0.1\n",
    ")"
   ]
  },
  {
   "cell_type": "markdown",
   "id": "207cca66",
   "metadata": {},
   "source": [
    "### Evaluation & Prediction"
   ]
  },
  {
   "cell_type": "code",
   "execution_count": 15,
   "id": "29be6006",
   "metadata": {},
   "outputs": [
    {
     "name": "stdout",
     "output_type": "stream",
     "text": [
      "313/313 [==============================] - 1s 2ms/step - loss: 0.2749 - accuracy: 0.9009\n",
      "Test Accuracy:  0.9009000062942505\n"
     ]
    }
   ],
   "source": [
    "test_loss, test_acc = model.evaluate(x_test, y_test_cat)\n",
    "print('Test Accuracy: ', test_acc)"
   ]
  },
  {
   "cell_type": "code",
   "execution_count": 16,
   "id": "02f84805",
   "metadata": {},
   "outputs": [
    {
     "name": "stdout",
     "output_type": "stream",
     "text": [
      "313/313 [==============================] - 1s 2ms/step\n"
     ]
    }
   ],
   "source": [
    "# get predictions\n",
    "y_pred = np.argmax(model.predict(x_test), axis=1)"
   ]
  },
  {
   "cell_type": "code",
   "execution_count": 17,
   "id": "c73042c5",
   "metadata": {},
   "outputs": [
    {
     "name": "stdout",
     "output_type": "stream",
     "text": [
      "Classification Report\n",
      "              precision    recall  f1-score   support\n",
      "\n",
      "           0       0.87      0.82      0.84      1000\n",
      "           1       0.99      0.99      0.99      1000\n",
      "           2       0.88      0.81      0.84      1000\n",
      "           3       0.92      0.92      0.92      1000\n",
      "           4       0.81      0.88      0.84      1000\n",
      "           5       0.98      0.97      0.97      1000\n",
      "           6       0.69      0.74      0.72      1000\n",
      "           7       0.96      0.94      0.95      1000\n",
      "           8       0.99      0.98      0.98      1000\n",
      "           9       0.94      0.97      0.96      1000\n",
      "\n",
      "    accuracy                           0.90     10000\n",
      "   macro avg       0.90      0.90      0.90     10000\n",
      "weighted avg       0.90      0.90      0.90     10000\n",
      "\n"
     ]
    }
   ],
   "source": [
    "# classification report\n",
    "print('Classification Report')\n",
    "print(classification_report(y_test, y_pred))"
   ]
  },
  {
   "cell_type": "code",
   "execution_count": 18,
   "id": "2d00d476",
   "metadata": {},
   "outputs": [
    {
     "data": {
      "image/png": "[encoded data removed]",
      "text/plain": [
       "<Figure size 576x432 with 2 Axes>"
      ]
     },
     "metadata": {
      "needs_background": "light"
     },
     "output_type": "display_data"
    }
   ],
   "source": [
    "# confusion matrix\n",
    "cm = confusion_matrix(y_test, y_pred)\n",
    "\n",
    "plt.figure(figsize=(8, 6))\n",
    "sns.heatmap(cm, annot=True, fmt='d', cmap='Blues')\n",
    "plt.xlabel('predicted')\n",
    "plt.ylabel('actual')\n",
    "plt.title('confusion matrix')\n",
    "plt.show()"
   ]
  },
  {
   "cell_type": "code",
   "execution_count": 19,
   "id": "17284f0e",
   "metadata": {},
   "outputs": [
    {
     "data": {
      "image/png": "[encoded data removed]",
      "text/plain": [
       "<Figure size 720x288 with 5 Axes>"
      ]
     },
     "metadata": {
      "needs_background": "light"
     },
     "output_type": "display_data"
    }
   ],
   "source": [
    "# sample predictions\n",
    "\n",
    "labels = ['T-shirt', 'Trouser', 'Pullover', 'Dress', 'Coat',\n",
    "          'Sandal', 'Shirt', 'Sneaker', 'Bag', 'Ankle boot']\n",
    "\n",
    "plt.figure(figsize=(10,4))\n",
    "for i in range(5):\n",
    "    plt.subplot(1,5,i+1)\n",
    "    plt.imshow(x_test[i].reshape(28,28), cmap='gray')\n",
    "    plt.title(f\"True: {labels[y_test[i]]}\\nPred: {labels[y_pred[i]]}\")\n",
    "    plt.axis('off')\n",
    "plt.tight_layout()\n",
    "plt.show()"
   ]
  }
 ],
 "metadata": {
  "kernelspec": {
   "display_name": "Python 3 (ipykernel)",
   "language": "python",
   "name": "python3"
  },
  "language_info": {
   "codemirror_mode": {
    "name": "ipython",
    "version": 3
   },
   "file_extension": ".py",
   "mimetype": "text/x-python",
   "name": "python",
   "nbconvert_exporter": "python",
   "pygments_lexer": "ipython3",
   "version": "3.9.12"
  }
 },
 "nbformat": 4,
 "nbformat_minor": 5
}
