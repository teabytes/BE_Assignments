{
 "cells": [
  {
   "cell_type": "markdown",
   "id": "ee4ee456",
   "metadata": {},
   "source": [
    "# Assignment 2B - Multiclass Classification using DNN\n",
    "**Classification using Deep Neural Network**:\n",
    "<br> Multiclass Classification using Deep Neural Networks: Example - Use the OCR letter recognition dataset https://archive.ics.uci.edu/ml/datasets/letter+recognition"
   ]
  },
  {
   "cell_type": "code",
   "execution_count": 2,
   "id": "b0e7eb5a",
   "metadata": {},
   "outputs": [],
   "source": [
    "import pandas as pd\n",
    "import numpy as np\n",
    "\n",
    "from sklearn.model_selection import train_test_split\n",
    "from sklearn.preprocessing import StandardScaler, LabelEncoder\n",
    "\n",
    "from tensorflow.keras.models import Sequential\n",
    "from tensorflow.keras.layers import Dense\n",
    "from tensorflow.keras.utils import to_categorical"
   ]
  },
  {
   "cell_type": "code",
   "execution_count": 3,
   "id": "0568a873",
   "metadata": {},
   "outputs": [],
   "source": [
    "# load the dataset\n",
    "df = pd.read_csv('letter_recognition.data',  header=None, sep = \",\")"
   ]
  },
  {
   "cell_type": "code",
   "execution_count": 4,
   "id": "f8be1465",
   "metadata": {},
   "outputs": [
    {
     "data": {
      "text/html": [
       "<div>\n",
       "<style scoped>\n",
       "    .dataframe tbody tr th:only-of-type {\n",
       "        vertical-align: middle;\n",
       "    }\n",
       "\n",
       "    .dataframe tbody tr th {\n",
       "        vertical-align: top;\n",
       "    }\n",
       "\n",
       "    .dataframe thead th {\n",
       "        text-align: right;\n",
       "    }\n",
       "</style>\n",
       "<table border=\"1\" class=\"dataframe\">\n",
       "  <thead>\n",
       "    <tr style=\"text-align: right;\">\n",
       "      <th></th>\n",
       "      <th>0</th>\n",
       "      <th>1</th>\n",
       "      <th>2</th>\n",
       "      <th>3</th>\n",
       "      <th>4</th>\n",
       "      <th>5</th>\n",
       "      <th>6</th>\n",
       "      <th>7</th>\n",
       "      <th>8</th>\n",
       "      <th>9</th>\n",
       "      <th>10</th>\n",
       "      <th>11</th>\n",
       "      <th>12</th>\n",
       "      <th>13</th>\n",
       "      <th>14</th>\n",
       "      <th>15</th>\n",
       "      <th>16</th>\n",
       "    </tr>\n",
       "  </thead>\n",
       "  <tbody>\n",
       "    <tr>\n",
       "      <th>0</th>\n",
       "      <td>T</td>\n",
       "      <td>2</td>\n",
       "      <td>8</td>\n",
       "      <td>3</td>\n",
       "      <td>5</td>\n",
       "      <td>1</td>\n",
       "      <td>8</td>\n",
       "      <td>13</td>\n",
       "      <td>0</td>\n",
       "      <td>6</td>\n",
       "      <td>6</td>\n",
       "      <td>10</td>\n",
       "      <td>8</td>\n",
       "      <td>0</td>\n",
       "      <td>8</td>\n",
       "      <td>0</td>\n",
       "      <td>8</td>\n",
       "    </tr>\n",
       "    <tr>\n",
       "      <th>1</th>\n",
       "      <td>I</td>\n",
       "      <td>5</td>\n",
       "      <td>12</td>\n",
       "      <td>3</td>\n",
       "      <td>7</td>\n",
       "      <td>2</td>\n",
       "      <td>10</td>\n",
       "      <td>5</td>\n",
       "      <td>5</td>\n",
       "      <td>4</td>\n",
       "      <td>13</td>\n",
       "      <td>3</td>\n",
       "      <td>9</td>\n",
       "      <td>2</td>\n",
       "      <td>8</td>\n",
       "      <td>4</td>\n",
       "      <td>10</td>\n",
       "    </tr>\n",
       "    <tr>\n",
       "      <th>2</th>\n",
       "      <td>D</td>\n",
       "      <td>4</td>\n",
       "      <td>11</td>\n",
       "      <td>6</td>\n",
       "      <td>8</td>\n",
       "      <td>6</td>\n",
       "      <td>10</td>\n",
       "      <td>6</td>\n",
       "      <td>2</td>\n",
       "      <td>6</td>\n",
       "      <td>10</td>\n",
       "      <td>3</td>\n",
       "      <td>7</td>\n",
       "      <td>3</td>\n",
       "      <td>7</td>\n",
       "      <td>3</td>\n",
       "      <td>9</td>\n",
       "    </tr>\n",
       "    <tr>\n",
       "      <th>3</th>\n",
       "      <td>N</td>\n",
       "      <td>7</td>\n",
       "      <td>11</td>\n",
       "      <td>6</td>\n",
       "      <td>6</td>\n",
       "      <td>3</td>\n",
       "      <td>5</td>\n",
       "      <td>9</td>\n",
       "      <td>4</td>\n",
       "      <td>6</td>\n",
       "      <td>4</td>\n",
       "      <td>4</td>\n",
       "      <td>10</td>\n",
       "      <td>6</td>\n",
       "      <td>10</td>\n",
       "      <td>2</td>\n",
       "      <td>8</td>\n",
       "    </tr>\n",
       "    <tr>\n",
       "      <th>4</th>\n",
       "      <td>G</td>\n",
       "      <td>2</td>\n",
       "      <td>1</td>\n",
       "      <td>3</td>\n",
       "      <td>1</td>\n",
       "      <td>1</td>\n",
       "      <td>8</td>\n",
       "      <td>6</td>\n",
       "      <td>6</td>\n",
       "      <td>6</td>\n",
       "      <td>6</td>\n",
       "      <td>5</td>\n",
       "      <td>9</td>\n",
       "      <td>1</td>\n",
       "      <td>7</td>\n",
       "      <td>5</td>\n",
       "      <td>10</td>\n",
       "    </tr>\n",
       "  </tbody>\n",
       "</table>\n",
       "</div>"
      ],
      "text/plain": [
       "  0   1   2   3   4   5   6   7   8   9   10  11  12  13  14  15  16\n",
       "0  T   2   8   3   5   1   8  13   0   6   6  10   8   0   8   0   8\n",
       "1  I   5  12   3   7   2  10   5   5   4  13   3   9   2   8   4  10\n",
       "2  D   4  11   6   8   6  10   6   2   6  10   3   7   3   7   3   9\n",
       "3  N   7  11   6   6   3   5   9   4   6   4   4  10   6  10   2   8\n",
       "4  G   2   1   3   1   1   8   6   6   6   6   5   9   1   7   5  10"
      ]
     },
     "execution_count": 4,
     "metadata": {},
     "output_type": "execute_result"
    }
   ],
   "source": [
    "# view\n",
    "df.head()"
   ]
  },
  {
   "cell_type": "markdown",
   "id": "df27e894",
   "metadata": {},
   "source": [
    "### Preprocessing"
   ]
  },
  {
   "cell_type": "code",
   "execution_count": 5,
   "id": "0cd860e3",
   "metadata": {},
   "outputs": [],
   "source": [
    "# assign column names (optional)\n",
    "df.columns = ['letter', 'x-box', 'y-box', 'width', 'high', 'onpix', 'x-bar',\n",
    "              'y-bar', 'x2bar', 'y2bar', 'xybar', 'x2ybr', 'xy2br', 'x-ege',\n",
    "              'xegvy', 'y-ege', 'yegvx']"
   ]
  },
  {
   "cell_type": "code",
   "execution_count": 6,
   "id": "6d3ca046",
   "metadata": {
    "scrolled": false
   },
   "outputs": [
    {
     "data": {
      "text/html": [
       "<div>\n",
       "<style scoped>\n",
       "    .dataframe tbody tr th:only-of-type {\n",
       "        vertical-align: middle;\n",
       "    }\n",
       "\n",
       "    .dataframe tbody tr th {\n",
       "        vertical-align: top;\n",
       "    }\n",
       "\n",
       "    .dataframe thead th {\n",
       "        text-align: right;\n",
       "    }\n",
       "</style>\n",
       "<table border=\"1\" class=\"dataframe\">\n",
       "  <thead>\n",
       "    <tr style=\"text-align: right;\">\n",
       "      <th></th>\n",
       "      <th>letter</th>\n",
       "      <th>x-box</th>\n",
       "      <th>y-box</th>\n",
       "      <th>width</th>\n",
       "      <th>high</th>\n",
       "      <th>onpix</th>\n",
       "      <th>x-bar</th>\n",
       "      <th>y-bar</th>\n",
       "      <th>x2bar</th>\n",
       "      <th>y2bar</th>\n",
       "      <th>xybar</th>\n",
       "      <th>x2ybr</th>\n",
       "      <th>xy2br</th>\n",
       "      <th>x-ege</th>\n",
       "      <th>xegvy</th>\n",
       "      <th>y-ege</th>\n",
       "      <th>yegvx</th>\n",
       "    </tr>\n",
       "  </thead>\n",
       "  <tbody>\n",
       "    <tr>\n",
       "      <th>0</th>\n",
       "      <td>T</td>\n",
       "      <td>2</td>\n",
       "      <td>8</td>\n",
       "      <td>3</td>\n",
       "      <td>5</td>\n",
       "      <td>1</td>\n",
       "      <td>8</td>\n",
       "      <td>13</td>\n",
       "      <td>0</td>\n",
       "      <td>6</td>\n",
       "      <td>6</td>\n",
       "      <td>10</td>\n",
       "      <td>8</td>\n",
       "      <td>0</td>\n",
       "      <td>8</td>\n",
       "      <td>0</td>\n",
       "      <td>8</td>\n",
       "    </tr>\n",
       "    <tr>\n",
       "      <th>1</th>\n",
       "      <td>I</td>\n",
       "      <td>5</td>\n",
       "      <td>12</td>\n",
       "      <td>3</td>\n",
       "      <td>7</td>\n",
       "      <td>2</td>\n",
       "      <td>10</td>\n",
       "      <td>5</td>\n",
       "      <td>5</td>\n",
       "      <td>4</td>\n",
       "      <td>13</td>\n",
       "      <td>3</td>\n",
       "      <td>9</td>\n",
       "      <td>2</td>\n",
       "      <td>8</td>\n",
       "      <td>4</td>\n",
       "      <td>10</td>\n",
       "    </tr>\n",
       "    <tr>\n",
       "      <th>2</th>\n",
       "      <td>D</td>\n",
       "      <td>4</td>\n",
       "      <td>11</td>\n",
       "      <td>6</td>\n",
       "      <td>8</td>\n",
       "      <td>6</td>\n",
       "      <td>10</td>\n",
       "      <td>6</td>\n",
       "      <td>2</td>\n",
       "      <td>6</td>\n",
       "      <td>10</td>\n",
       "      <td>3</td>\n",
       "      <td>7</td>\n",
       "      <td>3</td>\n",
       "      <td>7</td>\n",
       "      <td>3</td>\n",
       "      <td>9</td>\n",
       "    </tr>\n",
       "    <tr>\n",
       "      <th>3</th>\n",
       "      <td>N</td>\n",
       "      <td>7</td>\n",
       "      <td>11</td>\n",
       "      <td>6</td>\n",
       "      <td>6</td>\n",
       "      <td>3</td>\n",
       "      <td>5</td>\n",
       "      <td>9</td>\n",
       "      <td>4</td>\n",
       "      <td>6</td>\n",
       "      <td>4</td>\n",
       "      <td>4</td>\n",
       "      <td>10</td>\n",
       "      <td>6</td>\n",
       "      <td>10</td>\n",
       "      <td>2</td>\n",
       "      <td>8</td>\n",
       "    </tr>\n",
       "    <tr>\n",
       "      <th>4</th>\n",
       "      <td>G</td>\n",
       "      <td>2</td>\n",
       "      <td>1</td>\n",
       "      <td>3</td>\n",
       "      <td>1</td>\n",
       "      <td>1</td>\n",
       "      <td>8</td>\n",
       "      <td>6</td>\n",
       "      <td>6</td>\n",
       "      <td>6</td>\n",
       "      <td>6</td>\n",
       "      <td>5</td>\n",
       "      <td>9</td>\n",
       "      <td>1</td>\n",
       "      <td>7</td>\n",
       "      <td>5</td>\n",
       "      <td>10</td>\n",
       "    </tr>\n",
       "  </tbody>\n",
       "</table>\n",
       "</div>"
      ],
      "text/plain": [
       "  letter  x-box  y-box  width  high  onpix  x-bar  y-bar  x2bar  y2bar  xybar  \\\n",
       "0      T      2      8      3     5      1      8     13      0      6      6   \n",
       "1      I      5     12      3     7      2     10      5      5      4     13   \n",
       "2      D      4     11      6     8      6     10      6      2      6     10   \n",
       "3      N      7     11      6     6      3      5      9      4      6      4   \n",
       "4      G      2      1      3     1      1      8      6      6      6      6   \n",
       "\n",
       "   x2ybr  xy2br  x-ege  xegvy  y-ege  yegvx  \n",
       "0     10      8      0      8      0      8  \n",
       "1      3      9      2      8      4     10  \n",
       "2      3      7      3      7      3      9  \n",
       "3      4     10      6     10      2      8  \n",
       "4      5      9      1      7      5     10  "
      ]
     },
     "execution_count": 6,
     "metadata": {},
     "output_type": "execute_result"
    }
   ],
   "source": [
    "df.head()"
   ]
  },
  {
   "cell_type": "code",
   "execution_count": 7,
   "id": "6627cc3c",
   "metadata": {},
   "outputs": [],
   "source": [
    "# separate features and target\n",
    "x = df.drop('letter', axis=1)\n",
    "y = df['letter']"
   ]
  },
  {
   "cell_type": "markdown",
   "id": "0143f244",
   "metadata": {},
   "source": [
    "### Encoding"
   ]
  },
  {
   "cell_type": "code",
   "execution_count": 8,
   "id": "673a56f9",
   "metadata": {},
   "outputs": [],
   "source": [
    "# encode the letter labels (A-Z) into integers (0-25)\n",
    "label_encoder = LabelEncoder()\n",
    "y_encoded = label_encoder.fit_transform(y)"
   ]
  },
  {
   "cell_type": "code",
   "execution_count": 9,
   "id": "c235f535",
   "metadata": {},
   "outputs": [],
   "source": [
    "# one-hot encoding\n",
    "y_categorical = to_categorical(y_encoded)"
   ]
  },
  {
   "cell_type": "markdown",
   "id": "c7c45195",
   "metadata": {},
   "source": [
    "### Split & Standardize"
   ]
  },
  {
   "cell_type": "code",
   "execution_count": 10,
   "id": "f1b45f02",
   "metadata": {},
   "outputs": [],
   "source": [
    "# split into train & test sets\n",
    "x_train, x_test, y_train, y_test = train_test_split(x, y_categorical, test_size=0.2, random_state=42)"
   ]
  },
  {
   "cell_type": "code",
   "execution_count": 11,
   "id": "c3ea2781",
   "metadata": {},
   "outputs": [],
   "source": [
    "# scale features\n",
    "scaler = StandardScaler()\n",
    "x_train = scaler.fit_transform(x_train)\n",
    "x_test = scaler.transform(x_test)"
   ]
  },
  {
   "cell_type": "markdown",
   "id": "85aa4ceb",
   "metadata": {},
   "source": [
    "### Build & Train DNN"
   ]
  },
  {
   "cell_type": "code",
   "execution_count": 12,
   "id": "f69e545b",
   "metadata": {},
   "outputs": [
    {
     "name": "stdout",
     "output_type": "stream",
     "text": [
      "Model: \"sequential\"\n",
      "_________________________________________________________________\n",
      " Layer (type)                Output Shape              Param #   \n",
      "=================================================================\n",
      " dense (Dense)               (None, 128)               2176      \n",
      "                                                                 \n",
      " dense_1 (Dense)             (None, 64)                8256      \n",
      "                                                                 \n",
      " dense_2 (Dense)             (None, 26)                1690      \n",
      "                                                                 \n",
      "=================================================================\n",
      "Total params: 12,122\n",
      "Trainable params: 12,122\n",
      "Non-trainable params: 0\n",
      "_________________________________________________________________\n"
     ]
    }
   ],
   "source": [
    "model = Sequential()\n",
    "\n",
    "# 3 layers\n",
    "model.add(Dense(128, input_dim = x_train.shape[1], activation='relu'))\n",
    "model.add(Dense(64, activation='relu'))\n",
    "model.add(Dense(26, activation='softmax'))  # 26 output neurons - one for each letter\n",
    "\n",
    "# compile the model\n",
    "model.compile(optimizer='adam', loss='categorical_crossentropy', metrics=['accuracy'])\n",
    "model.summary()"
   ]
  },
  {
   "cell_type": "code",
   "execution_count": 13,
   "id": "ec0389f1",
   "metadata": {},
   "outputs": [
    {
     "name": "stdout",
     "output_type": "stream",
     "text": [
      "Epoch 1/50\n",
      "450/450 [==============================] - 1s 2ms/step - loss: 1.4705 - accuracy: 0.6022 - val_loss: 0.8607 - val_accuracy: 0.7431\n",
      "Epoch 2/50\n",
      "450/450 [==============================] - 1s 1ms/step - loss: 0.7039 - accuracy: 0.7930 - val_loss: 0.6005 - val_accuracy: 0.8288\n",
      "Epoch 3/50\n",
      "450/450 [==============================] - 1s 1ms/step - loss: 0.5282 - accuracy: 0.8453 - val_loss: 0.4806 - val_accuracy: 0.8531\n",
      "Epoch 4/50\n",
      "450/450 [==============================] - 1s 1ms/step - loss: 0.4273 - accuracy: 0.8741 - val_loss: 0.3950 - val_accuracy: 0.8844\n",
      "Epoch 5/50\n",
      "450/450 [==============================] - 1s 1ms/step - loss: 0.3612 - accuracy: 0.8924 - val_loss: 0.3731 - val_accuracy: 0.8763\n",
      "Epoch 6/50\n",
      "450/450 [==============================] - 1s 1ms/step - loss: 0.3122 - accuracy: 0.9077 - val_loss: 0.3358 - val_accuracy: 0.8975\n",
      "Epoch 7/50\n",
      "450/450 [==============================] - 1s 1ms/step - loss: 0.2750 - accuracy: 0.9170 - val_loss: 0.2842 - val_accuracy: 0.9081\n",
      "Epoch 8/50\n",
      "450/450 [==============================] - 1s 1ms/step - loss: 0.2436 - accuracy: 0.9258 - val_loss: 0.2661 - val_accuracy: 0.9156\n",
      "Epoch 9/50\n",
      "450/450 [==============================] - 1s 1ms/step - loss: 0.2213 - accuracy: 0.9317 - val_loss: 0.2473 - val_accuracy: 0.9212\n",
      "Epoch 10/50\n",
      "450/450 [==============================] - 1s 2ms/step - loss: 0.2014 - accuracy: 0.9385 - val_loss: 0.2381 - val_accuracy: 0.9219\n",
      "Epoch 11/50\n",
      "450/450 [==============================] - 1s 2ms/step - loss: 0.1817 - accuracy: 0.9447 - val_loss: 0.2120 - val_accuracy: 0.9337\n",
      "Epoch 12/50\n",
      "450/450 [==============================] - 1s 2ms/step - loss: 0.1664 - accuracy: 0.9467 - val_loss: 0.2116 - val_accuracy: 0.9306\n",
      "Epoch 13/50\n",
      "450/450 [==============================] - 1s 2ms/step - loss: 0.1573 - accuracy: 0.9510 - val_loss: 0.1917 - val_accuracy: 0.9400\n",
      "Epoch 14/50\n",
      "450/450 [==============================] - 1s 2ms/step - loss: 0.1432 - accuracy: 0.9553 - val_loss: 0.2068 - val_accuracy: 0.9369\n",
      "Epoch 15/50\n",
      "450/450 [==============================] - 1s 2ms/step - loss: 0.1334 - accuracy: 0.9592 - val_loss: 0.1831 - val_accuracy: 0.9400\n",
      "Epoch 16/50\n",
      "450/450 [==============================] - 1s 2ms/step - loss: 0.1259 - accuracy: 0.9613 - val_loss: 0.1769 - val_accuracy: 0.9425\n",
      "Epoch 17/50\n",
      "450/450 [==============================] - 1s 2ms/step - loss: 0.1153 - accuracy: 0.9662 - val_loss: 0.1652 - val_accuracy: 0.9431\n",
      "Epoch 18/50\n",
      "450/450 [==============================] - 1s 2ms/step - loss: 0.1114 - accuracy: 0.9653 - val_loss: 0.1548 - val_accuracy: 0.9531\n",
      "Epoch 19/50\n",
      "450/450 [==============================] - 1s 2ms/step - loss: 0.1021 - accuracy: 0.9697 - val_loss: 0.1620 - val_accuracy: 0.9494\n",
      "Epoch 20/50\n",
      "450/450 [==============================] - 1s 2ms/step - loss: 0.0970 - accuracy: 0.9702 - val_loss: 0.1551 - val_accuracy: 0.9513\n",
      "Epoch 21/50\n",
      "450/450 [==============================] - 1s 2ms/step - loss: 0.0901 - accuracy: 0.9732 - val_loss: 0.1607 - val_accuracy: 0.9506\n",
      "Epoch 22/50\n",
      "450/450 [==============================] - 1s 2ms/step - loss: 0.0852 - accuracy: 0.9736 - val_loss: 0.1680 - val_accuracy: 0.9419\n",
      "Epoch 23/50\n",
      "450/450 [==============================] - 1s 2ms/step - loss: 0.0804 - accuracy: 0.9744 - val_loss: 0.1398 - val_accuracy: 0.9569\n",
      "Epoch 24/50\n",
      "450/450 [==============================] - 1s 2ms/step - loss: 0.0763 - accuracy: 0.9758 - val_loss: 0.1459 - val_accuracy: 0.9556\n",
      "Epoch 25/50\n",
      "450/450 [==============================] - 1s 2ms/step - loss: 0.0712 - accuracy: 0.9779 - val_loss: 0.1555 - val_accuracy: 0.9500\n",
      "Epoch 26/50\n",
      "450/450 [==============================] - 1s 2ms/step - loss: 0.0642 - accuracy: 0.9799 - val_loss: 0.1458 - val_accuracy: 0.9569\n",
      "Epoch 27/50\n",
      "450/450 [==============================] - 1s 2ms/step - loss: 0.0668 - accuracy: 0.9790 - val_loss: 0.1596 - val_accuracy: 0.9494\n",
      "Epoch 28/50\n",
      "450/450 [==============================] - 1s 2ms/step - loss: 0.0606 - accuracy: 0.9819 - val_loss: 0.1436 - val_accuracy: 0.9556\n",
      "Epoch 29/50\n",
      "450/450 [==============================] - 1s 2ms/step - loss: 0.0547 - accuracy: 0.9841 - val_loss: 0.1482 - val_accuracy: 0.9550\n",
      "Epoch 30/50\n",
      "450/450 [==============================] - 1s 2ms/step - loss: 0.0589 - accuracy: 0.9813 - val_loss: 0.1601 - val_accuracy: 0.9525\n",
      "Epoch 31/50\n",
      "450/450 [==============================] - 1s 2ms/step - loss: 0.0507 - accuracy: 0.9846 - val_loss: 0.1481 - val_accuracy: 0.9556\n",
      "Epoch 32/50\n",
      "450/450 [==============================] - 1s 2ms/step - loss: 0.0491 - accuracy: 0.9858 - val_loss: 0.1553 - val_accuracy: 0.9550\n",
      "Epoch 33/50\n",
      "450/450 [==============================] - 1s 2ms/step - loss: 0.0492 - accuracy: 0.9841 - val_loss: 0.1417 - val_accuracy: 0.9556\n",
      "Epoch 34/50\n",
      "450/450 [==============================] - 1s 2ms/step - loss: 0.0423 - accuracy: 0.9883 - val_loss: 0.1442 - val_accuracy: 0.9588\n",
      "Epoch 35/50\n",
      "450/450 [==============================] - 1s 2ms/step - loss: 0.0426 - accuracy: 0.9871 - val_loss: 0.1391 - val_accuracy: 0.9563\n",
      "Epoch 36/50\n",
      "450/450 [==============================] - 1s 2ms/step - loss: 0.0404 - accuracy: 0.9883 - val_loss: 0.1366 - val_accuracy: 0.9613\n",
      "Epoch 37/50\n",
      "450/450 [==============================] - 1s 2ms/step - loss: 0.0350 - accuracy: 0.9900 - val_loss: 0.1622 - val_accuracy: 0.9575\n",
      "Epoch 38/50\n",
      "450/450 [==============================] - 1s 2ms/step - loss: 0.0364 - accuracy: 0.9899 - val_loss: 0.1466 - val_accuracy: 0.9556\n",
      "Epoch 39/50\n",
      "450/450 [==============================] - 1s 2ms/step - loss: 0.0347 - accuracy: 0.9901 - val_loss: 0.1439 - val_accuracy: 0.9613\n",
      "Epoch 40/50\n",
      "450/450 [==============================] - 1s 2ms/step - loss: 0.0298 - accuracy: 0.9919 - val_loss: 0.1508 - val_accuracy: 0.9575\n",
      "Epoch 41/50\n",
      "450/450 [==============================] - 1s 2ms/step - loss: 0.0334 - accuracy: 0.9905 - val_loss: 0.1428 - val_accuracy: 0.9613\n",
      "Epoch 42/50\n",
      "450/450 [==============================] - 1s 2ms/step - loss: 0.0294 - accuracy: 0.9925 - val_loss: 0.1813 - val_accuracy: 0.9500\n",
      "Epoch 43/50\n",
      "450/450 [==============================] - 1s 2ms/step - loss: 0.0308 - accuracy: 0.9914 - val_loss: 0.1651 - val_accuracy: 0.9569\n",
      "Epoch 44/50\n",
      "450/450 [==============================] - 1s 2ms/step - loss: 0.0430 - accuracy: 0.9869 - val_loss: 0.1703 - val_accuracy: 0.9531\n",
      "Epoch 45/50\n",
      "450/450 [==============================] - 1s 2ms/step - loss: 0.0283 - accuracy: 0.9921 - val_loss: 0.1368 - val_accuracy: 0.9594\n",
      "Epoch 46/50\n",
      "450/450 [==============================] - 1s 2ms/step - loss: 0.0210 - accuracy: 0.9953 - val_loss: 0.1448 - val_accuracy: 0.9600\n",
      "Epoch 47/50\n",
      "450/450 [==============================] - 1s 2ms/step - loss: 0.0246 - accuracy: 0.9935 - val_loss: 0.1584 - val_accuracy: 0.9588\n",
      "Epoch 48/50\n",
      "450/450 [==============================] - 1s 2ms/step - loss: 0.0212 - accuracy: 0.9944 - val_loss: 0.1358 - val_accuracy: 0.9619\n",
      "Epoch 49/50\n",
      "450/450 [==============================] - 1s 2ms/step - loss: 0.0230 - accuracy: 0.9937 - val_loss: 0.1454 - val_accuracy: 0.9613\n",
      "Epoch 50/50\n",
      "450/450 [==============================] - 1s 2ms/step - loss: 0.0311 - accuracy: 0.9898 - val_loss: 0.1608 - val_accuracy: 0.9600\n"
     ]
    }
   ],
   "source": [
    "# train the model\n",
    "history = model.fit(\n",
    "    x_train, y_train,\n",
    "    epochs = 50,\n",
    "    batch_size = 32,\n",
    "    validation_split = 0.1,\n",
    "    verbose = 1)"
   ]
  },
  {
   "cell_type": "markdown",
   "id": "734efad5",
   "metadata": {},
   "source": [
    "### Evaluation & Prediction"
   ]
  },
  {
   "cell_type": "code",
   "execution_count": 14,
   "id": "2574fc49",
   "metadata": {},
   "outputs": [
    {
     "name": "stdout",
     "output_type": "stream",
     "text": [
      "125/125 [==============================] - 0s 1ms/step - loss: 0.1614 - accuracy: 0.9555\n",
      "Test Accuracy:  0.9555000066757202\n",
      "Test Loss:  0.1614076942205429\n"
     ]
    }
   ],
   "source": [
    "# evaluate the model\n",
    "test_loss, test_accuracy = model.evaluate(x_test, y_test, verbose = 1)\n",
    "print('Test Accuracy: ', test_accuracy)\n",
    "print('Test Loss: ', test_loss)"
   ]
  },
  {
   "cell_type": "code",
   "execution_count": 15,
   "id": "3fc1576f",
   "metadata": {},
   "outputs": [
    {
     "name": "stdout",
     "output_type": "stream",
     "text": [
      "125/125 [==============================] - 0s 1ms/step\n"
     ]
    }
   ],
   "source": [
    "# get predictions\n",
    "y_pred = model.predict(x_test)\n",
    "\n",
    "# convert one-hot predictions back to label indices\n",
    "pred_indices = np.argmax(y_pred, axis=1)\n",
    "true_indices = np.argmax(y_test, axis=1)\n",
    "\n",
    "# convert label indices back to actual letters\n",
    "pred_labels = label_encoder.inverse_transform(pred_indices)\n",
    "true_labels = label_encoder.inverse_transform(true_indices)"
   ]
  },
  {
   "cell_type": "code",
   "execution_count": 16,
   "id": "b4d598ff",
   "metadata": {},
   "outputs": [
    {
     "name": "stdout",
     "output_type": "stream",
     "text": [
      "Predictions vs. Actual\n",
      "Predicted:  X  | Actual:  T\n",
      "Predicted:  L  | Actual:  L\n",
      "Predicted:  A  | Actual:  A\n",
      "Predicted:  E  | Actual:  E\n",
      "Predicted:  Q  | Actual:  Q\n"
     ]
    }
   ],
   "source": [
    "# predictions vs actual\n",
    "print('Predictions vs. Actual')\n",
    "for i in range(5):\n",
    "    print('Predicted: ', pred_labels[i], ' | Actual: ', true_labels[i])"
   ]
  },
  {
   "cell_type": "markdown",
   "id": "505f0d7f",
   "metadata": {},
   "source": [
    "### Plot"
   ]
  },
  {
   "cell_type": "code",
   "execution_count": 17,
   "id": "eff660eb",
   "metadata": {},
   "outputs": [],
   "source": [
    "import matplotlib.pyplot as plt\n",
    "import seaborn as sns\n",
    "from sklearn.metrics import confusion_matrix, classification_report"
   ]
  },
  {
   "cell_type": "code",
   "execution_count": 18,
   "id": "c69b962d",
   "metadata": {},
   "outputs": [
    {
     "data": {
      "image/png": "[encoded data removed]",
      "text/plain": [
       "<Figure size 576x432 with 2 Axes>"
      ]
     },
     "metadata": {
      "needs_background": "light"
     },
     "output_type": "display_data"
    }
   ],
   "source": [
    "# compute confusion matrix\n",
    "cm = confusion_matrix(true_indices, pred_indices)\n",
    "\n",
    "plt.figure(figsize=(8, 6))\n",
    "sns.heatmap(cm, annot=False, fmt='d', cmap='Blues', xticklabels=label_encoder.classes_, yticklabels=label_encoder.classes_)\n",
    "plt.xlabel('predicted')\n",
    "plt.ylabel('actual')\n",
    "plt.title('confusion matrix')\n",
    "plt.show()"
   ]
  },
  {
   "cell_type": "code",
   "execution_count": 28,
   "id": "14c479ff",
   "metadata": {
    "scrolled": true
   },
   "outputs": [
    {
     "name": "stdout",
     "output_type": "stream",
     "text": [
      "\n",
      "Classification Report:\n",
      "\n",
      "              precision    recall  f1-score   support\n",
      "\n",
      "           A       0.97      0.99      0.98       149\n",
      "           B       0.90      0.96      0.93       153\n",
      "           C       0.97      0.93      0.95       137\n",
      "           D       0.95      0.95      0.95       156\n",
      "           E       0.88      0.96      0.92       141\n",
      "           F       0.94      0.94      0.94       140\n",
      "           G       0.87      0.96      0.91       160\n",
      "           H       0.93      0.90      0.91       144\n",
      "           I       0.99      0.92      0.95       146\n",
      "           J       0.95      0.99      0.97       149\n",
      "           K       0.92      0.92      0.92       130\n",
      "           L       0.96      0.98      0.97       155\n",
      "           M       0.97      0.96      0.97       168\n",
      "           N       0.99      0.92      0.95       151\n",
      "           O       0.98      0.94      0.96       145\n",
      "           P       0.98      0.96      0.97       173\n",
      "           Q       0.96      0.98      0.97       166\n",
      "           R       0.90      0.88      0.89       160\n",
      "           S       0.95      0.98      0.97       171\n",
      "           T       0.97      0.96      0.97       163\n",
      "           U       0.95      0.99      0.97       183\n",
      "           V       0.99      0.96      0.97       158\n",
      "           W       0.99      0.96      0.97       148\n",
      "           X       0.98      0.98      0.98       154\n",
      "           Y       0.99      0.99      0.99       168\n",
      "           Z       0.98      0.92      0.95       132\n",
      "\n",
      "    accuracy                           0.95      4000\n",
      "   macro avg       0.95      0.95      0.95      4000\n",
      "weighted avg       0.96      0.95      0.95      4000\n",
      "\n"
     ]
    }
   ],
   "source": [
    "# precision, recall, f1-score for each class\n",
    "report = classification_report(true_indices, pred_indices, target_names=label_encoder.classes_)\n",
    "print(\"\\nClassification Report:\\n\")\n",
    "print(report)"
   ]
  }
 ],
 "metadata": {
  "kernelspec": {
   "display_name": "Python 3 (ipykernel)",
   "language": "python",
   "name": "python3"
  },
  "language_info": {
   "codemirror_mode": {
    "name": "ipython",
    "version": 3
   },
   "file_extension": ".py",
   "mimetype": "text/x-python",
   "name": "python",
   "nbconvert_exporter": "python",
   "pygments_lexer": "ipython3",
   "version": "3.9.12"
  }
 },
 "nbformat": 4,
 "nbformat_minor": 5
}
